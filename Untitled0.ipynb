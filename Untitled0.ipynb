{
  "nbformat": 4,
  "nbformat_minor": 0,
  "metadata": {
    "colab": {
      "provenance": [],
      "authorship_tag": "ABX9TyPLSPU46HPg+B1LwhLswEhS",
      "include_colab_link": true
    },
    "kernelspec": {
      "name": "python3",
      "display_name": "Python 3"
    },
    "language_info": {
      "name": "python"
    }
  },
  "cells": [
    {
      "cell_type": "markdown",
      "metadata": {
        "id": "view-in-github",
        "colab_type": "text"
      },
      "source": [
        "<a href=\"https://colab.research.google.com/github/thePERDOMO/Taller-4/blob/main/Untitled0.ipynb\" target=\"_parent\"><img src=\"https://colab.research.google.com/assets/colab-badge.svg\" alt=\"Open In Colab\"/></a>"
      ]
    },
    {
      "cell_type": "code",
      "execution_count": null,
      "metadata": {
        "id": "t9iOWbsARnAE"
      },
      "outputs": [],
      "source": []
    },
    {
      "cell_type": "markdown",
      "source": [
        "Problema #3\n",
        "\n",
        "Algoritmo.\n",
        "\n",
        "1. iniciar\n",
        "2. puntos a 0 y el contador de intentos a 3.\n",
        "3. Seleccionar aleatoriamente entre \"cara\" o \"sello\".\n",
        "4. Solicitar al usuario que haga su adivinanza.\n",
        "5. Comparar la adivinanza del usuario con la elección aleatoria: Si acierta, sumar 1 punto, restablecer los intentos a 3 y volver a seleccionar aleatoriamente. : Si falla, restar 1 intento.\n",
        "6. Si el usuario se queda sin intentos, mostrar el total de puntos.\n",
        "7. Preguntar al usuario si quiere jugar de nuevo: Si elige \"sí\", reiniciar los puntos e intentos y volver a iniciar el juego. : Si elige \"no\", finalizar el programa.\n",
        "8. finalizar"
      ],
      "metadata": {
        "id": "9KQD4ARrSEKK"
      }
    },
    {
      "cell_type": "markdown",
      "source": [],
      "metadata": {
        "id": "dj0fba7OYHAm"
      }
    },
    {
      "cell_type": "markdown",
      "source": [
        "Problema #3\n",
        "\n",
        "Pseodocodigo.\n",
        "\n",
        "INICIO\n",
        "\n",
        "   puntos - 0\n",
        "   intentos - 3\n",
        "   repetir_juego - Verdadero\n",
        "\n",
        "MIENTRAS repetir_juego = Verdadero HACER\n",
        "      SELECCIONAR aleatoriamente entre \"cara\" o \"sello\"\n",
        "      \n",
        " MIENTRAS intentos > 0 HACER\n",
        " MOSTRAR \"Adivina: cara o sello\"\n",
        " leer adivinanza_usuario\n",
        "         \n",
        "\n",
        " SI adivinanza_usuario = elección_aleatoria ENTONCES\n",
        " puntos - puntos + 1\n",
        " intentos - 3\n",
        "\n",
        " MOSTRAR \"¡Correcto! Tienes\", puntos, \"punto(s).\"\n",
        "\n",
        " SELECCIONAR nuevamente aleatoriamente entre \"cara\" o \"sello\"I NO\n",
        " intentos ← intentos - 1\n",
        "\n",
        "SI intentos > 0 ENTONCES\n",
        "\n",
        "MOSTRAR \"Incorrecto. Te quedan\", intentos, \"intentos.\"\n",
        "\n",
        "SI NO\n",
        "\n",
        "MOSTRAR \"Te has quedado sin intentos. Has conseguido\", puntos, \"punto(s).\"\n",
        "\n",
        "MOSTRAR \"¿Quieres jugar de nuevo? (sí/no)\"\n",
        "\n",
        "leer respuesta\n",
        "\n",
        "SI respuesta = \"no\" ENTONCES\n",
        "  repetir_juego - Falso\n",
        "\n",
        "SINO\n",
        " puntos - 0\n",
        " intentos - 3\n",
        "\n",
        "FIN"
      ],
      "metadata": {
        "id": "BLk49aNFYXAb"
      }
    },
    {
      "cell_type": "code",
      "source": [
        "import random\n",
        "\n",
        "def jugar_cara_o_sello():\n",
        "    puntos = 0\n",
        "    intentos = 3\n",
        "    repetir_juego = True\n",
        "\n",
        "    while repetir_juego:\n",
        "        eleccion_aleatoria = random.choice([\"cara\", \"sello\"])\n",
        "\n",
        "        while intentos > 0:\n",
        "            adivinanza_usuario = input(\"Adivina: ¿cara o sello? \").lower()\n",
        "\n",
        "            if adivinanza_usuario == eleccion_aleatoria:\n",
        "                puntos += 1\n",
        "                intentos = 3\n",
        "                print(f\"¡Correcto! Tienes {puntos} punto(s).\")\n",
        "                eleccion_aleatoria = random.choice([\"cara\", \"sello\"])\n",
        "            else:\n",
        "                intentos -= 1\n",
        "                if intentos > 0:\n",
        "                    print(f\"Incorrecto. Te quedan {intentos} intentos.\")\n",
        "                else:\n",
        "                    print(f\"Te has quedado sin intentos. Has conseguido {puntos} punto(s).\")\n",
        "\n",
        "        respuesta = input(\"¿Quieres jugar de nuevo? (sí/no): \").lower()\n",
        "        if respuesta != \"sí\":\n",
        "            repetir_juego = False\n",
        "        else:\n",
        "            puntos = 0\n",
        "            intentos = 3\n",
        "\n",
        "# Iniciar el juego\n",
        "jugar_cara_o_sello()"
      ],
      "metadata": {
        "id": "7Glb6yi8V4rA"
      },
      "execution_count": null,
      "outputs": []
    }
  ]
}