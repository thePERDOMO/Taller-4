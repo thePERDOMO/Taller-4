{
  "nbformat": 4,
  "nbformat_minor": 0,
  "metadata": {
    "colab": {
      "provenance": [],
      "authorship_tag": "ABX9TyNfebkrWXfxJMQnCEsh/5y2",
      "include_colab_link": true
    },
    "kernelspec": {
      "name": "python3",
      "display_name": "Python 3"
    },
    "language_info": {
      "name": "python"
    }
  },
  "cells": [
    {
      "cell_type": "markdown",
      "metadata": {
        "id": "view-in-github",
        "colab_type": "text"
      },
      "source": [
        "<a href=\"https://colab.research.google.com/github/thePERDOMO/Taller-4/blob/main/Untitled1.ipynb\" target=\"_parent\"><img src=\"https://colab.research.google.com/assets/colab-badge.svg\" alt=\"Open In Colab\"/></a>"
      ]
    },
    {
      "cell_type": "markdown",
      "source": [
        "## TALLER 4\n",
        "NAME: JESUS GOYENECHE, LUIS PERDOMO"
      ],
      "metadata": {
        "id": "t81spvGnMzWn"
      }
    },
    {
      "cell_type": "markdown",
      "source": [
        "## ALGORITMO\n",
        "Calculadora de promedio ponderado\n",
        "\n",
        "\n",
        "1. Iniciar.\n",
        "2. Declarar variables: la calificación ingresada, el porcentaje de la calificación en el cálculo del promedio, la suma de las notas multiplicadas por sus respectivos pesos, la suma de los pesos de todas las calificaciones, el promedio ponderado final.\n",
        "- Preguntar si se desea ingresar otra calificación (\"sí\" o \"no\").\n",
        "3. Inicializar sumatoria_productos y sumatoria_pesos en 0.\n",
        "4. Repetir hasta que el usuario decida no ingresar más notas:\n",
        "- Pedir al usuario ingresar una nota (calificación).\n",
        "- Pedir al usuario ingresar el peso de la nota (en porcentaje).\n",
        "- Multiplicar la nota por el peso y sumar el resultado a sumatoria_productos.\n",
        "- Sumar el peso a sumatoria_pesos.\n",
        "- Preguntar al usuario si desea ingresar otra nota (continuar):\n",
        "\n",
        "Si el usuario responde \"sí\", repetir los pasos anteriores.\n",
        "\n",
        "Si el usuario responde \"no\", continuar con el cálculo del promedio.\n",
        "\n",
        "5. Calcular el promedio ponderado:\n",
        "promedio_ponderado = sumatoria_productos / sumatoria_pesos.\n",
        "6. Mostrar el promedio ponderado al usuario.\n",
        "7. Finalizar."
      ],
      "metadata": {
        "id": "b1PuDB0LNUzT"
      }
    },
    {
      "cell_type": "markdown",
      "source": [
        "## PSEUDOCÓDIGO\n",
        "# Calculadora_de_promedio_ponderado\n",
        "\n",
        "\n",
        "Start\n",
        "\n",
        "Declare float nota\n",
        "Declare float peso\n",
        "Declare float sumatoria_productos = 0\n",
        "Declare float sumatoria_pesos = 0\n",
        "Declare string continuar = \"si\"\n",
        "Declare float promedio_ponderado\n",
        "\n",
        "While (continuar == \"si\") Do\n",
        "  Display \"Ingrese la nota:\"\n",
        "  Input nota\n",
        "        \n",
        "Display \"Ingrese el porcentaje (peso) de la nota:\"\n",
        "  Input peso\n",
        "        \n",
        "sumatoria_productos = sumatoria_productos + (nota * peso)\n",
        "sumatoria_pesos = sumatoria_pesos + peso\n",
        "        \n",
        "Display \"¿Desea ingresar otra nota? (si/no):\"\n",
        "Input continuar\n",
        "End While\n",
        "\n",
        "If (sumatoria_pesos > 0) then\n",
        "promedio_ponderado = sumatoria_productos / sumatoria_pesos\n",
        "Display \"El promedio ponderado es: \", promedio_ponderado\n",
        "  Else\n",
        "      Display \"No se ingresaron suficientes datos para calcular el promedio.\"\n",
        "  End If\n",
        "\n",
        "End"
      ],
      "metadata": {
        "id": "sp5AA-FpRfSQ"
      }
    },
    {
      "cell_type": "code",
      "source": [
        "sumatoria_productos = 0\n",
        "sumatoria_pesos = 0\n",
        "continuar = \"si\"\n",
        "\n",
        "\n",
        "while continuar.lower() == \"si\":\n",
        "    nota = float(input(\"Ingrese la nota: \"))\n",
        "    peso = float(input(\"Ingrese el porcentaje (peso) de la nota: \"))\n",
        "\n",
        "\n",
        "    sumatoria_productos += nota * peso\n",
        "    sumatoria_pesos += peso\n",
        "\n",
        "\n",
        "    continuar = input(\"¿Desea ingresar otra nota? (si/no): \")\n",
        "\n",
        "\n",
        "if sumatoria_pesos > 0:\n",
        "    promedio_ponderado = sumatoria_productos / sumatoria_pesos\n",
        "    print(f\"El promedio ponderado es: {promedio_ponderado:.2f}\")\n",
        "else:\n",
        "    print(\"No se ingresaron suficientes datos para calcular el promedio.\")\n"
      ],
      "metadata": {
        "colab": {
          "base_uri": "https://localhost:8080/"
        },
        "id": "6zrB3K4yT3EU",
        "outputId": "127b341e-62ad-4652-9741-4311ed24f689"
      },
      "execution_count": 3,
      "outputs": [
        {
          "output_type": "stream",
          "name": "stdout",
          "text": [
            "Ingrese la nota: 3.8\n",
            "Ingrese el porcentaje (peso) de la nota: 40\n",
            "¿Desea ingresar otra nota? (si/no): si\n",
            "Ingrese la nota: 4.2\n",
            "Ingrese el porcentaje (peso) de la nota: 35\n",
            "¿Desea ingresar otra nota? (si/no): si\n",
            "Ingrese la nota: 4.0\n",
            "Ingrese el porcentaje (peso) de la nota: 50\n",
            "¿Desea ingresar otra nota? (si/no): no\n",
            "El promedio ponderado es: 3.99\n"
          ]
        }
      ]
    }
  ]
}